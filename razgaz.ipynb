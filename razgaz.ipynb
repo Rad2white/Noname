{
 "cells": [
  {
   "cell_type": "code",
   "execution_count": 199,
   "metadata": {},
   "outputs": [],
   "source": [
    "import pandas as pd"
   ]
  },
  {
   "cell_type": "code",
   "execution_count": 200,
   "metadata": {},
   "outputs": [],
   "source": [
    "def razgaz (Go,Tpl,Pnas,rodeg,rogas,Met,N2):\n",
    "    \n",
    "    Pnas20=Pnas+(20-Tpl)/(9.157+701.8/Go/(Met-0.8*N2))\n",
    "    print(Pnas20)"
   ]
  },
  {
   "cell_type": "code",
   "execution_count": 201,
   "metadata": {},
   "outputs": [],
   "source": [
    "df=pd.read_excel('dz1.xlsx', u'Задание-1.1',header=5, usecols=\"B:H\" ) # считали с файла dz1.xlsx и листа \"Задание-1.1\" данные"
   ]
  },
  {
   "cell_type": "code",
   "execution_count": 202,
   "metadata": {},
   "outputs": [
    {
     "data": {
      "text/html": [
       "<div>\n",
       "<style scoped>\n",
       "    .dataframe tbody tr th:only-of-type {\n",
       "        vertical-align: middle;\n",
       "    }\n",
       "\n",
       "    .dataframe tbody tr th {\n",
       "        vertical-align: top;\n",
       "    }\n",
       "\n",
       "    .dataframe thead th {\n",
       "        text-align: right;\n",
       "    }\n",
       "</style>\n",
       "<table border=\"1\" class=\"dataframe\">\n",
       "  <thead>\n",
       "    <tr style=\"text-align: right;\">\n",
       "      <th></th>\n",
       "      <th>Гом, м3/т</th>\n",
       "      <th>tпл, °С</th>\n",
       "      <th>Рнас, МПа</th>\n",
       "      <th>ρнд, кг/м3</th>\n",
       "      <th>ρг, кг/м3</th>\n",
       "      <th>уСН4</th>\n",
       "      <th>уN1</th>\n",
       "    </tr>\n",
       "  </thead>\n",
       "  <tbody>\n",
       "    <tr>\n",
       "      <td>0</td>\n",
       "      <td>85</td>\n",
       "      <td>73</td>\n",
       "      <td>8</td>\n",
       "      <td>845</td>\n",
       "      <td>1.325</td>\n",
       "      <td>0.312</td>\n",
       "      <td>0.198</td>\n",
       "    </tr>\n",
       "  </tbody>\n",
       "</table>\n",
       "</div>"
      ],
      "text/plain": [
       "   Гом, м3/т  tпл, °С  Рнас, МПа  ρнд, кг/м3  ρг, кг/м3   уСН4    уN1\n",
       "0         85       73          8         845      1.325  0.312  0.198"
      ]
     },
     "execution_count": 202,
     "metadata": {},
     "output_type": "execute_result"
    }
   ],
   "source": [
    "df.head(1)"
   ]
  },
  {
   "cell_type": "code",
   "execution_count": 203,
   "metadata": {},
   "outputs": [],
   "source": [
    "# df.columns = ['Гом, м3/т', 'tпл, °С', 'Рнас, МПа','ρнд, кг/м3', 'ρг, кг/м3', 'уСН4','уN1']"
   ]
  },
  {
   "cell_type": "code",
   "execution_count": 204,
   "metadata": {},
   "outputs": [],
   "source": [
    "a=df.at[0,'Гом, м3/т']\n",
    "b=df.at[0,'tпл, °С']\n",
    "c=df.at[0,'Рнас, МПа']\n",
    "d=df.at[0,'ρнд, кг/м3']\n",
    "e=df.at[0,'ρг, кг/м3']\n",
    "f=df.at[0,'уСН4']\n",
    "g=df.at[0,'уN1']\n"
   ]
  },
  {
   "cell_type": "code",
   "execution_count": 205,
   "metadata": {},
   "outputs": [
    {
     "name": "stdout",
     "output_type": "stream",
     "text": [
      "7.157527478731114\n"
     ]
    }
   ],
   "source": [
    "razgaz(a,b,c,d,e,f,g)"
   ]
  },
  {
   "cell_type": "code",
   "execution_count": 206,
   "metadata": {},
   "outputs": [
    {
     "data": {
      "text/plain": [
       "Гом, м3/т       int64\n",
       "tпл, °С         int64\n",
       "Рнас, МПа       int64\n",
       "ρнд, кг/м3      int64\n",
       "ρг, кг/м3     float64\n",
       "уСН4          float64\n",
       "уN1           float64\n",
       "dtype: object"
      ]
     },
     "execution_count": 206,
     "metadata": {},
     "output_type": "execute_result"
    }
   ],
   "source": [
    "df.dtypes"
   ]
  },
  {
   "cell_type": "code",
   "execution_count": 207,
   "metadata": {},
   "outputs": [
    {
     "name": "stdout",
     "output_type": "stream",
     "text": [
      "<class 'pandas.core.frame.DataFrame'>\n",
      "RangeIndex: 40 entries, 0 to 39\n",
      "Data columns (total 7 columns):\n",
      "Гом, м3/т     40 non-null int64\n",
      "tпл, °С       40 non-null int64\n",
      "Рнас, МПа     40 non-null int64\n",
      "ρнд, кг/м3    40 non-null int64\n",
      "ρг, кг/м3     40 non-null float64\n",
      "уСН4          40 non-null float64\n",
      "уN1           40 non-null float64\n",
      "dtypes: float64(3), int64(4)\n",
      "memory usage: 2.3 KB\n"
     ]
    }
   ],
   "source": [
    "df.info()"
   ]
  },
  {
   "cell_type": "code",
   "execution_count": 74,
   "metadata": {},
   "outputs": [],
   "source": []
  },
  {
   "cell_type": "code",
   "execution_count": null,
   "metadata": {},
   "outputs": [],
   "source": []
  }
 ],
 "metadata": {
  "kernelspec": {
   "display_name": "Python 3",
   "language": "python",
   "name": "python3"
  },
  "language_info": {
   "codemirror_mode": {
    "name": "ipython",
    "version": 3
   },
   "file_extension": ".py",
   "mimetype": "text/x-python",
   "name": "python",
   "nbconvert_exporter": "python",
   "pygments_lexer": "ipython3",
   "version": "3.7.4"
  }
 },
 "nbformat": 4,
 "nbformat_minor": 2
}
